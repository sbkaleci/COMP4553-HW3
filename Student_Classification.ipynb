{
 "cells": [
  {
   "cell_type": "markdown",
   "id": "73777b7e",
   "metadata": {},
   "source": [
    "# Student Performance Classification\n",
    "\n",
    "This notebook implements a classification pipeline to predict student pass/fail status based on the UCI Student Performance dataset."
   ]
  },
  {
   "cell_type": "code",
   "execution_count": null,
   "id": "6416ccac",
   "metadata": {},
   "outputs": [],
   "source": [
    "import pandas as pd\n",
    "from sklearn.model_selection import train_test_split\n",
    "from sklearn.linear_model import LogisticRegression\n",
    "from sklearn.metrics import accuracy_score, precision_score, recall_score, f1_score, confusion_matrix"
   ]
  },
  {
   "cell_type": "code",
   "execution_count": null,
   "id": "1d4d7c5d",
   "metadata": {},
   "outputs": [],
   "source": [
    "df = pd.read_csv('student-mat.csv', sep=';')"
   ]
  },
  {
   "cell_type": "code",
   "execution_count": null,
   "id": "df3bc8e4",
   "metadata": {},
   "outputs": [],
   "source": [
    "df['pass_fail'] = (df['G3'] >= 50).astype(int)"
   ]
  },
  {
   "cell_type": "code",
   "execution_count": null,
   "id": "0b5f7fd8",
   "metadata": {},
   "outputs": [],
   "source": [
    "X = df.drop(['G3', 'pass_fail'], axis=1)\n",
    "X_encoded = pd.get_dummies(X, drop_first=True)\n",
    "y = df['pass_fail']"
   ]
  },
  {
   "cell_type": "code",
   "execution_count": null,
   "id": "2254f835",
   "metadata": {},
   "outputs": [],
   "source": [
    "X_train, X_test, y_train, y_test = train_test_split(X_encoded, y, test_size=0.3, random_state=42)"
   ]
  },
  {
   "cell_type": "code",
   "execution_count": null,
   "id": "35633806",
   "metadata": {},
   "outputs": [],
   "source": [
    "model = LogisticRegression(max_iter=1000)\n",
    "model.fit(X_train, y_train)"
   ]
  },
  {
   "cell_type": "code",
   "execution_count": null,
   "id": "f34ff1d6",
   "metadata": {},
   "outputs": [],
   "source": [
    "y_pred = model.predict(X_test)\n",
    "print('Accuracy:', accuracy_score(y_test, y_pred))\n",
    "print('Precision:', precision_score(y_test, y_pred))\n",
    "print('Recall:', recall_score(y_test, y_pred))\n",
    "print('F1 Score:', f1_score(y_test, y_pred))\n",
    "\n",
    "cm = confusion_matrix(y_test, y_pred)\n",
    "print('Confusion Matrix:\\n', cm)"
   ]
  }
 ],
 "metadata": {
  "language_info": {
   "name": "python"
  }
 },
 "nbformat": 4,
 "nbformat_minor": 5
}
