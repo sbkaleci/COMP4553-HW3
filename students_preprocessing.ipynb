{
 "cells": [
  {
   "cell_type": "code",
   "execution_count": null,
   "id": "470307aa",
   "metadata": {},
   "outputs": [],
   "source": [
    "# Students Grading Dataset Preprocessing Notebook\n",
    "# Steps: Cleaning, Integration, Reduction, Transformation, Discretization"
   ]
  },
  {
   "cell_type": "code",
   "execution_count": null,
   "id": "c060018a",
   "metadata": {},
   "outputs": [],
   "source": [
    "import pandas as pd\n",
    "from sklearn.impute import SimpleImputer\n",
    "from sklearn.decomposition import PCA\n",
    "from sklearn.preprocessing import MinMaxScaler\n",
    "\n",
    "# 0) Load dataset\n",
    "# Download 'StudentsPerformance.csv' from Kaggle and place it here\n",
    "df = pd.read_csv('StudentsPerformance.csv')\n",
    "df.head()"
   ]
  },
  {
   "cell_type": "code",
   "execution_count": null,
   "id": "08f00987",
   "metadata": {},
   "outputs": [],
   "source": [
    "# 1) Data Cleaning\n",
    "print('Missing values before:', df.isnull().sum(), '\\n')\n",
    "df = df.drop_duplicates()\n",
    "imputer = SimpleImputer(strategy='mean')\n",
    "df[['math score','reading score','writing score']] = imputer.fit_transform(df[['math score','reading score','writing score']])\n",
    "print('Missing values after:', df.isnull().sum())"
   ]
  },
  {
   "cell_type": "code",
   "execution_count": null,
   "id": "60b2a5fe",
   "metadata": {},
   "outputs": [],
   "source": [
    "# 2) Data Integration\n",
    "import pandas as pd\n",
    "mapping_df = pd.DataFrame({\n",
    "    'test preparation course': ['none', 'completed'],\n",
    "    'prep_binary': [0, 1]\n",
    "})\n",
    "df = df.merge(mapping_df, on='test preparation course', how='left')\n",
    "df.head()"
   ]
  },
  {
   "cell_type": "code",
   "execution_count": null,
   "id": "0464f6a0",
   "metadata": {},
   "outputs": [],
   "source": [
    "# 3) Data Reduction (PCA)\n",
    "features = ['math score','reading score','writing score','prep_binary']\n",
    "pca = PCA(n_components=2)\n",
    "pc = pca.fit_transform(df[features])\n",
    "pc_df = pd.DataFrame(pc, columns=['PC1','PC2'])\n",
    "df = pd.concat([df, pc_df], axis=1)\n",
    "print('Explained variance ratio:', pca.explained_variance_ratio_)"
   ]
  },
  {
   "cell_type": "code",
   "execution_count": null,
   "id": "1ec25335",
   "metadata": {},
   "outputs": [],
   "source": [
    "# 4) Data Transformation (Normalization)\n",
    "scaler = MinMaxScaler()\n",
    "df[['math_score_norm','reading_score_norm','writing_score_norm']] = scaler.fit_transform(df[['math score','reading score','writing score']])\n",
    "df.head()"
   ]
  },
  {
   "cell_type": "code",
   "execution_count": null,
   "id": "78884259",
   "metadata": {},
   "outputs": [],
   "source": [
    "# 5) Data Discretization\n",
    "# Calculate total\n",
    "df['total_score'] = df['math score'] + df['reading score'] + df['writing score']\n",
    "# Bin into letter grades\n",
    "df['grade'] = pd.cut(df['total_score'], bins=[0, 180, 240, 300], labels=['C','B','A'])\n",
    "df.head()"
   ]
  }
 ],
 "metadata": {
  "kernelspec": {
   "display_name": "Python 3 (ipykernel)",
   "language": "python",
   "name": "python3"
  },
  "language_info": {
   "codemirror_mode": {
    "name": "ipython",
    "version": 3
   },
   "file_extension": ".py",
   "mimetype": "text/x-python",
   "name": "python",
   "nbconvert_exporter": "python",
   "pygments_lexer": "ipython3",
   "version": "3.9.0"
  }
 },
 "nbformat": 4,
 "nbformat_minor": 5
}
